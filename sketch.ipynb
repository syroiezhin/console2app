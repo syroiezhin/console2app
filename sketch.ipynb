{
 "cells": [
  {
   "cell_type": "code",
   "execution_count": null,
   "metadata": {},
   "outputs": [],
   "source": [
    "from requests import get\n",
    "from socket import getfqdn, gethostbyname\n",
    "from os import popen\n",
    "\n",
    "if __name__ == '__main__':\n",
    "    \n",
    "    print (\n",
    "        \" local: \", gethostbyname(getfqdn()), \"\\nglobal: \", get(\"http://ipconfig.in/ip\").text, \"\\n\",\n",
    "        \" local: \", popen(\"ipconfig getifaddr en0\").read(), \"global: \", popen(\"curl ifconfig.me\").read(), \"\\n\"\n",
    "        )\n",
    "\n"
   ]
  },
  {
   "cell_type": "code",
   "execution_count": null,
   "metadata": {},
   "outputs": [],
   "source": [
    "from subprocess import run, PIPE\n",
    "from shlex import split\n",
    "\n",
    "if __name__ == '__main__':\n",
    "    print(\n",
    "        result := split(run([\"ls\"], stdout=PIPE).stdout.decode())\n",
    "        )"
   ]
  },
  {
   "cell_type": "code",
   "execution_count": 30,
   "metadata": {},
   "outputs": [],
   "source": [
    "from PIL import Image\n",
    "\n",
    "if __name__ == '__main__':\n",
    "    Image.open(get(\"https://static.ngs.ru/news/2015/99/preview/6f3e934e7e2d0402bdf8113262ea14420b7da035_640.jpg\", stream=True).raw).show()\n"
   ]
  },
  {
   "cell_type": "code",
   "execution_count": null,
   "metadata": {},
   "outputs": [],
   "source": [
    "from datetime import datetime\n",
    "if __name__ == '__main__':\n",
    "    print(\n",
    "        datetime.now().strftime(\"%d.%m.%Y - %H:%M:%S\")\n",
    "    )\n"
   ]
  },
  {
   "cell_type": "code",
   "execution_count": null,
   "metadata": {},
   "outputs": [],
   "source": [
    "from email.mime.text import MIMEText\n",
    "from smtplib import SMTP\n",
    "\n",
    "def send_email():\n",
    "    smtp = 'smtp.gmail.com'\n",
    "    sender = \"<_first_mail_>@gmail.com\" # !!!\n",
    "    destination = \"<_second_mail_>@gmail.com\" # !!!\n",
    "    server = SMTP(smtp, 587)\n",
    "    server.starttls()\n",
    "    \n",
    "    application_passwords = \"passwordfromourgooglebot\" # !!! create a password using the link for the sender's email\n",
    "    # https://myaccount.google.com/security#:~:text=%EE%97%8C-,%D0%9F%D0%B0%D1%80%D0%BE%D0%BB%D0%B8%20%D0%BF%D1%80%D0%B8%D0%BB%D0%BE%D0%B6%D0%B5%D0%BD%D0%B8%D0%B9,-%D0%9D%D0%B8%20%D0%BE%D0%B4%D0%BD%D0%BE%D0%B3%D0%BE\n",
    "    \n",
    "    try:\n",
    "        server.login(sender, application_passwords)\n",
    "        msg = MIMEText(\"howdy, text_mail\") # !!!\n",
    "        msg[\"Subject\"] = \"read this\" # !!!\n",
    "        msg['From'] = sender\n",
    "        msg['To'] = destination\n",
    "        server.sendmail(sender, destination, msg.as_string())\n",
    "        \n",
    "    except Exception: return print(\"ERROR\")\n",
    "\n",
    "if __name__ == \"__main__\": \n",
    "    send_email()"
   ]
  }
 ],
 "metadata": {
  "kernelspec": {
   "display_name": "Python 3.9.12 ('base')",
   "language": "python",
   "name": "python3"
  },
  "language_info": {
   "codemirror_mode": {
    "name": "ipython",
    "version": 3
   },
   "file_extension": ".py",
   "mimetype": "text/x-python",
   "name": "python",
   "nbconvert_exporter": "python",
   "pygments_lexer": "ipython3",
   "version": "3.9.12"
  },
  "orig_nbformat": 4,
  "vscode": {
   "interpreter": {
    "hash": "5f23284fad75d58360d212629b595dfe6fd02dbd8325e77387b1e5cbaad4e030"
   }
  }
 },
 "nbformat": 4,
 "nbformat_minor": 2
}
